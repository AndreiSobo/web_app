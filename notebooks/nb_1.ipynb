{
 "cells": [
  {
   "cell_type": "code",
   "execution_count": 2,
   "metadata": {},
   "outputs": [
    {
     "name": "stdout",
     "output_type": "stream",
     "text": [
      "hi\n"
     ]
    }
   ],
   "source": [
    "print(\"hi\")"
   ]
  },
  {
   "cell_type": "code",
   "execution_count": 3,
   "metadata": {},
   "outputs": [
    {
     "data": {
      "text/html": [
       "<div>\n",
       "<style scoped>\n",
       "    .dataframe tbody tr th:only-of-type {\n",
       "        vertical-align: middle;\n",
       "    }\n",
       "\n",
       "    .dataframe tbody tr th {\n",
       "        vertical-align: top;\n",
       "    }\n",
       "\n",
       "    .dataframe thead th {\n",
       "        text-align: right;\n",
       "    }\n",
       "</style>\n",
       "<table border=\"1\" class=\"dataframe\">\n",
       "  <thead>\n",
       "    <tr style=\"text-align: right;\">\n",
       "      <th></th>\n",
       "      <th>CulmenLength</th>\n",
       "      <th>CulmenDepth</th>\n",
       "      <th>FlipperLength</th>\n",
       "      <th>BodyMass</th>\n",
       "      <th>Species</th>\n",
       "    </tr>\n",
       "  </thead>\n",
       "  <tbody>\n",
       "    <tr>\n",
       "      <th>0</th>\n",
       "      <td>39.1</td>\n",
       "      <td>18.7</td>\n",
       "      <td>181.0</td>\n",
       "      <td>3750.0</td>\n",
       "      <td>0</td>\n",
       "    </tr>\n",
       "    <tr>\n",
       "      <th>1</th>\n",
       "      <td>39.5</td>\n",
       "      <td>17.4</td>\n",
       "      <td>186.0</td>\n",
       "      <td>3800.0</td>\n",
       "      <td>0</td>\n",
       "    </tr>\n",
       "    <tr>\n",
       "      <th>2</th>\n",
       "      <td>40.3</td>\n",
       "      <td>18.0</td>\n",
       "      <td>195.0</td>\n",
       "      <td>3250.0</td>\n",
       "      <td>0</td>\n",
       "    </tr>\n",
       "    <tr>\n",
       "      <th>3</th>\n",
       "      <td>NaN</td>\n",
       "      <td>NaN</td>\n",
       "      <td>NaN</td>\n",
       "      <td>NaN</td>\n",
       "      <td>0</td>\n",
       "    </tr>\n",
       "    <tr>\n",
       "      <th>4</th>\n",
       "      <td>36.7</td>\n",
       "      <td>19.3</td>\n",
       "      <td>193.0</td>\n",
       "      <td>3450.0</td>\n",
       "      <td>0</td>\n",
       "    </tr>\n",
       "  </tbody>\n",
       "</table>\n",
       "</div>"
      ],
      "text/plain": [
       "   CulmenLength  CulmenDepth  FlipperLength  BodyMass  Species\n",
       "0          39.1         18.7          181.0    3750.0        0\n",
       "1          39.5         17.4          186.0    3800.0        0\n",
       "2          40.3         18.0          195.0    3250.0        0\n",
       "3           NaN          NaN            NaN       NaN        0\n",
       "4          36.7         19.3          193.0    3450.0        0"
      ]
     },
     "execution_count": 3,
     "metadata": {},
     "output_type": "execute_result"
    }
   ],
   "source": [
    "import pandas as pd\n",
    "data_path = \"../data/penguins.csv\"\n",
    "df = pd.read_csv(data_path)\n",
    "df.head()"
   ]
  },
  {
   "cell_type": "code",
   "execution_count": 4,
   "metadata": {},
   "outputs": [
    {
     "data": {
      "text/plain": [
       "CulmenLength     2\n",
       "CulmenDepth      2\n",
       "FlipperLength    2\n",
       "BodyMass         2\n",
       "Species          0\n",
       "dtype: int64"
      ]
     },
     "execution_count": 4,
     "metadata": {},
     "output_type": "execute_result"
    }
   ],
   "source": [
    "df.isna().sum()"
   ]
  },
  {
   "cell_type": "code",
   "execution_count": 5,
   "metadata": {},
   "outputs": [],
   "source": [
    "df = df.dropna()"
   ]
  },
  {
   "cell_type": "code",
   "execution_count": 6,
   "metadata": {},
   "outputs": [
    {
     "data": {
      "text/html": [
       "<div>\n",
       "<style scoped>\n",
       "    .dataframe tbody tr th:only-of-type {\n",
       "        vertical-align: middle;\n",
       "    }\n",
       "\n",
       "    .dataframe tbody tr th {\n",
       "        vertical-align: top;\n",
       "    }\n",
       "\n",
       "    .dataframe thead th {\n",
       "        text-align: right;\n",
       "    }\n",
       "</style>\n",
       "<table border=\"1\" class=\"dataframe\">\n",
       "  <thead>\n",
       "    <tr style=\"text-align: right;\">\n",
       "      <th></th>\n",
       "      <th>CulmenLength</th>\n",
       "      <th>CulmenDepth</th>\n",
       "      <th>FlipperLength</th>\n",
       "      <th>BodyMass</th>\n",
       "      <th>Species</th>\n",
       "    </tr>\n",
       "  </thead>\n",
       "  <tbody>\n",
       "    <tr>\n",
       "      <th>0</th>\n",
       "      <td>39.1</td>\n",
       "      <td>18.7</td>\n",
       "      <td>181.0</td>\n",
       "      <td>3750.0</td>\n",
       "      <td>0</td>\n",
       "    </tr>\n",
       "    <tr>\n",
       "      <th>1</th>\n",
       "      <td>39.5</td>\n",
       "      <td>17.4</td>\n",
       "      <td>186.0</td>\n",
       "      <td>3800.0</td>\n",
       "      <td>0</td>\n",
       "    </tr>\n",
       "    <tr>\n",
       "      <th>2</th>\n",
       "      <td>40.3</td>\n",
       "      <td>18.0</td>\n",
       "      <td>195.0</td>\n",
       "      <td>3250.0</td>\n",
       "      <td>0</td>\n",
       "    </tr>\n",
       "    <tr>\n",
       "      <th>4</th>\n",
       "      <td>36.7</td>\n",
       "      <td>19.3</td>\n",
       "      <td>193.0</td>\n",
       "      <td>3450.0</td>\n",
       "      <td>0</td>\n",
       "    </tr>\n",
       "    <tr>\n",
       "      <th>5</th>\n",
       "      <td>39.3</td>\n",
       "      <td>20.6</td>\n",
       "      <td>190.0</td>\n",
       "      <td>3650.0</td>\n",
       "      <td>0</td>\n",
       "    </tr>\n",
       "  </tbody>\n",
       "</table>\n",
       "</div>"
      ],
      "text/plain": [
       "   CulmenLength  CulmenDepth  FlipperLength  BodyMass  Species\n",
       "0          39.1         18.7          181.0    3750.0        0\n",
       "1          39.5         17.4          186.0    3800.0        0\n",
       "2          40.3         18.0          195.0    3250.0        0\n",
       "4          36.7         19.3          193.0    3450.0        0\n",
       "5          39.3         20.6          190.0    3650.0        0"
      ]
     },
     "execution_count": 6,
     "metadata": {},
     "output_type": "execute_result"
    }
   ],
   "source": [
    "df.head()"
   ]
  },
  {
   "cell_type": "code",
   "execution_count": 7,
   "metadata": {},
   "outputs": [
    {
     "data": {
      "text/plain": [
       "342"
      ]
     },
     "execution_count": 7,
     "metadata": {},
     "output_type": "execute_result"
    }
   ],
   "source": [
    "len(df)"
   ]
  },
  {
   "cell_type": "code",
   "execution_count": 8,
   "metadata": {},
   "outputs": [
    {
     "name": "stdout",
     "output_type": "stream",
     "text": [
      "   CulmenLength  CulmenDepth  FlipperLength  BodyMass  Species\n",
      "0          39.1         18.7           18.1      37.5        0\n",
      "1          39.5         17.4           18.6      38.0        0\n",
      "2          40.3         18.0           19.5      32.5        0\n",
      "4          36.7         19.3           19.3      34.5        0\n",
      "5          39.3         20.6           19.0      36.5        0\n"
     ]
    }
   ],
   "source": [
    "# train a linear regression model. score it. then save the model\n",
    "\n",
    "# implement data normalisation\n",
    "\n",
    "df['FlipperLength'] = df['FlipperLength'] / 10\n",
    "df['BodyMass'] = df['BodyMass'] / 100\n",
    "print(df.head())"
   ]
  },
  {
   "cell_type": "code",
   "execution_count": 9,
   "metadata": {},
   "outputs": [
    {
     "name": "stdout",
     "output_type": "stream",
     "text": [
      "[36.4  17.   19.5  33.25] (239, 4)\n",
      "0 (239,)\n"
     ]
    }
   ],
   "source": [
    "from sklearn.model_selection import train_test_split\n",
    "\n",
    "X, y = df[df.columns[:-1]].values, df['Species'].values\n",
    "X_train, X_test, y_train, y_test = train_test_split(X, y, test_size=0.3, random_state=0)\n",
    "print(X_train[0], X_train.shape)\n",
    "print(y_train[0], y_train.shape)"
   ]
  },
  {
   "cell_type": "code",
   "execution_count": 10,
   "metadata": {},
   "outputs": [
    {
     "name": "stdout",
     "output_type": "stream",
     "text": [
      "              precision    recall  f1-score   support\n",
      "\n",
      "           0       1.00      1.00      1.00        50\n",
      "           1       1.00      1.00      1.00        35\n",
      "           2       1.00      1.00      1.00        18\n",
      "\n",
      "    accuracy                           1.00       103\n",
      "   macro avg       1.00      1.00      1.00       103\n",
      "weighted avg       1.00      1.00      1.00       103\n",
      "\n"
     ]
    }
   ],
   "source": [
    "from sklearn.ensemble import RandomForestClassifier\n",
    "from sklearn.metrics import accuracy_score, r2_score, recall_score, classification_report\n",
    "\n",
    "model = RandomForestClassifier().fit(X_train, y_train)\n",
    "\n",
    "# predictions\n",
    "y_pred = model.predict(X_test)\n",
    "# metrics\n",
    "print(classification_report(y_test, y_pred))\n"
   ]
  },
  {
   "cell_type": "code",
   "execution_count": 11,
   "metadata": {},
   "outputs": [
    {
     "name": "stdout",
     "output_type": "stream",
     "text": [
      "1.0\n"
     ]
    }
   ],
   "source": [
    "# accuracy score\n",
    "accuracy = accuracy_score(y_test, y_pred)\n",
    "print(accuracy)"
   ]
  },
  {
   "cell_type": "code",
   "execution_count": 12,
   "metadata": {},
   "outputs": [
    {
     "name": "stdout",
     "output_type": "stream",
     "text": [
      "model saved!\n"
     ]
    }
   ],
   "source": [
    "# save the model\n",
    "import joblib\n",
    "import os\n",
    "\n",
    "# specify path of the model\n",
    "model_path = '../models/penguins_model.pkl'\n",
    "try:\n",
    "    joblib.dump(model, model_path)\n",
    "    print(\"model saved!\")\n",
    "except Exception as e:\n",
    "    print(f\"failed to save model {str(e)}\")\n"
   ]
  },
  {
   "cell_type": "code",
   "execution_count": 13,
   "metadata": {},
   "outputs": [
    {
     "name": "stdout",
     "output_type": "stream",
     "text": [
      "RandomForestClassifier()\n"
     ]
    }
   ],
   "source": [
    "# load model \n",
    "loaded_model = joblib.load(model_path)\n",
    "print(loaded_model)"
   ]
  },
  {
   "cell_type": "code",
   "execution_count": 24,
   "metadata": {},
   "outputs": [
    {
     "data": {
      "text/plain": [
       "[44.9, 13.3, 21.3, 51.0]"
      ]
     },
     "execution_count": 24,
     "metadata": {},
     "output_type": "execute_result"
    }
   ],
   "source": [
    "random_input = list(df.loc[200].values)\n",
    "new_input = random_input[:-1]\n",
    "new_input"
   ]
  },
  {
   "cell_type": "code",
   "execution_count": 27,
   "metadata": {},
   "outputs": [
    {
     "name": "stdout",
     "output_type": "stream",
     "text": [
      "the result is: 1, belonging to the class: sec_category\n"
     ]
    }
   ],
   "source": [
    "# inference with new input\n",
    "penguin_classes = ['first_category', 'sec_category', 'third_category']\n",
    "\n",
    "result = model.predict([new_input])\n",
    "print(f\"the result is: {result[0]}, belonging to the class: {penguin_classes[result[0]]}\")"
   ]
  },
  {
   "cell_type": "code",
   "execution_count": 5,
   "metadata": {},
   "outputs": [
    {
     "data": {
      "text/plain": [
       "(55, [27, 28])"
      ]
     },
     "execution_count": 5,
     "metadata": {},
     "output_type": "execute_result"
    }
   ],
   "source": [
    "arr = [17,18,5,4,12,1]\n",
    "\n",
    "def find_max_average(lst, k):\n",
    "    largest_average = float(\"-inf\")\n",
    "    correct_sequence = []\n",
    "    for i in range(len(lst)):\n",
    "        for j in range(i, len(lst)):\n",
    "            # avg = sum(lst) / len(lst)\n",
    "            current_list = lst[i:j+1]\n",
    "            if len(current_list) > k-1:\n",
    "                print(current_list)\n",
    "                avg = sum(current_list) / len(current_list)\n",
    "                if avg > largest_average:\n",
    "                    largest_average = avg\n",
    "                    correct_sequence = current_list\n",
    "    return largest_average, correct_sequence\n",
    "\n",
    "def find_max_average_k(lst, k):\n",
    "    curr_sum = best_sum = sum(lst[:k])\n",
    "    starting_index = 0\n",
    "    for i in range(len(lst)-k):\n",
    "        curr_sum += lst[i + k] - lst[i]\n",
    "        if curr_sum > best_sum:\n",
    "            best_sum = curr_sum\n",
    "            starting_index = i + 1\n",
    "    return best_sum, lst[starting_index: starting_index + k]\n",
    "    \n",
    "arr = [2,27,28,5,24,12,19,20]\n",
    "# find_max_average(arr)\n",
    "find_max_average_k(arr, 2)"
   ]
  },
  {
   "cell_type": "code",
   "execution_count": 7,
   "metadata": {},
   "outputs": [
    {
     "data": {
      "text/plain": [
       "4"
      ]
     },
     "execution_count": 7,
     "metadata": {},
     "output_type": "execute_result"
    }
   ],
   "source": [
    "# Given an array of integers arr and an integer k, \n",
    "# return the starting index of the subarray of length k\n",
    "# that has the minimum average.\n",
    "\n",
    "def min_avg_sub_k(arr, k):\n",
    "    min_avg = curr = sum(arr[:k])\n",
    "    index = 0\n",
    "    for i in range(len(arr) - k):\n",
    "        curr += arr[i + k] - arr[i]\n",
    "        if curr < min_avg:\n",
    "            min_avg = curr\n",
    "            index = i+1\n",
    "    return index\n",
    "arr = [3, 7, 5, 20, -10, 0, 3, 1]\n",
    "k = 3\n",
    "min_avg_sub_k(arr, k)"
   ]
  },
  {
   "cell_type": "code",
   "execution_count": 7,
   "metadata": {},
   "outputs": [
    {
     "data": {
      "text/plain": [
       "[3, 4, 4, 3]"
      ]
     },
     "execution_count": 7,
     "metadata": {},
     "output_type": "execute_result"
    }
   ],
   "source": [
    "# given an array arr of length n, and an integer k representing the window length,\n",
    "# For every contiguous subarray (or \"window\") of size k, \n",
    "# output the count of distinct elements in that window.\n",
    "# Return a list of n - k + 1 integers, where each integer represents the count \n",
    "# of distinct elements in the corresponding window.\n",
    "from collections import defaultdict\n",
    "arr = [1, 2, 1, 3, 4, 2, 3]\n",
    "k = 4\n",
    "\n",
    "# Output: [3, 4, 4, 3]\n",
    "def distinct_ele(arr, k):\n",
    "    # using sets\n",
    "    l = list()\n",
    "    for i in range(len(arr) - k+1):\n",
    "        n = len(set(arr[i:i+k])) # slice with every iteration\n",
    "        l.append(n)\n",
    "        print(arr[i:i+k])\n",
    "    return l\n",
    "\n",
    "def distinct_ele_hash(arr, k):\n",
    "    # using a hashmap\n",
    "    d = {}\n",
    "    results = list()\n",
    "    for i in range(k):\n",
    "        if arr[i] in d:\n",
    "            d[arr[i]] +=1\n",
    "        else:\n",
    "            d[arr[i]] = 1\n",
    "    results.append(len(d))\n",
    "    for i in range(len(arr) - k):\n",
    "        # rem last element\n",
    "        d[arr[i]] -= 1\n",
    "        if d[arr[i]] == 0:\n",
    "            del d[arr[i]]\n",
    "        # add incoming element\n",
    "\n",
    "        if arr[i+k] in d:\n",
    "            d[arr[i+k]] +=1\n",
    "        else:\n",
    "            d[arr[i+k]] = 1\n",
    "        results.append(len(d))\n",
    "    return results\n",
    "        \n",
    "\n",
    "# distinct_ele(arr, k)\n",
    "distinct_ele_hash(arr,k)\n"
   ]
  },
  {
   "cell_type": "code",
   "execution_count": 8,
   "metadata": {},
   "outputs": [
    {
     "data": {
      "text/plain": [
       "2"
      ]
     },
     "execution_count": 8,
     "metadata": {},
     "output_type": "execute_result"
    }
   ],
   "source": [
    "# we have an array arr and a window size k. count how many windows contain\n",
    "# exactly x distinct elements\n",
    "arr = [1, 2, 1, 3, 4, 2, 3]\n",
    "k = 4\n",
    "x = 4\n",
    "\n",
    "def solution(arr, k, x):\n",
    "    result = 0\n",
    "    d = {}\n",
    "    for i in range(k):\n",
    "        if arr[i] in d:\n",
    "            d[arr[i]] +=1\n",
    "        else:\n",
    "            d[arr[i]] = 1\n",
    "    if len(d) == x:\n",
    "        result +=1\n",
    "    for i in range(len(arr) - k):\n",
    "        # add element\n",
    "        if arr[i+k] in d:\n",
    "            d[arr[i+k]] +=1\n",
    "        else:\n",
    "            d[arr[i+k]] = 1\n",
    "        # rem element\n",
    "        d[arr[i]] -=1\n",
    "        if d[arr[i]] == 0:\n",
    "            del d[arr[i]]\n",
    "        if len(d) == x:\n",
    "            result+=1\n",
    "    return result\n",
    "solution(arr,k, x)"
   ]
  },
  {
   "cell_type": "code",
   "execution_count": null,
   "metadata": {},
   "outputs": [
    {
     "data": {
      "text/plain": [
       "[8, 8, 8]"
      ]
     },
     "execution_count": 15,
     "metadata": {},
     "output_type": "execute_result"
    }
   ],
   "source": [
    "# an array arr with a window size k, return the most frequent element in each window.\n",
    "# if multiple elements tie for frequency, return the smallest one.\n",
    "\n",
    "from collections import defaultdict\n",
    "\n",
    "def solution(arr, k):\n",
    "    result = []\n",
    "    d = defaultdict(int)\n",
    "    for i in range(k):\n",
    "        d[arr[i]] +=1\n",
    "    # add most freq elements to a list - if more than one the list can be looped over and smallest element returned\n",
    "    l_value = 0\n",
    "    largest_k_v = []\n",
    "    smallest = 0\n",
    "\n",
    "    # make an internal function\n",
    "    def iterate_keys(d):\n",
    "        nonlocal l_value, largest_k_v, smallest\n",
    "        for key in d.keys():\n",
    "        # if the count is the same, add it to the list\n",
    "            if d[key] == l_value:\n",
    "                largest_k_v.append((key, d[key]))\n",
    "            # if the count is larger, delete previous counts and add this to the list\n",
    "            elif d[key] > l_value:\n",
    "                l_value = d[key]\n",
    "                largest_k_v.clear()\n",
    "                largest_k_v = [(key, d[key])]\n",
    "                \n",
    "        if len(largest_k_v) > 1:\n",
    "            smallest = min([x[0] for x in largest_k_v])\n",
    "        else:\n",
    "            smallest = largest_k_v[0][0]\n",
    "\n",
    "        # d.clear()\n",
    "        result.append(smallest)\n",
    "\n",
    "        # reset all the values\n",
    "        l_value = 0\n",
    "        largest_k_v.clear()\n",
    "        smallest = 0\n",
    "\n",
    "    iterate_keys(d)\n",
    "\n",
    "\n",
    "    for i in range(k, len(arr)):\n",
    "        # add next element\n",
    "        d[arr[i]] += 1\n",
    "        # remove first element\n",
    "        d[arr[i-k]] -= 1\n",
    "        if d[arr[i-k]] == 0:\n",
    "            del d[arr[i-k]]\n",
    "        \n",
    "        iterate_keys(d)\n",
    "    return result\n",
    "\n",
    "arr = [9, 8, 8, 9, 10]\n",
    "k = 3\n",
    "\n",
    "\n",
    "solution(arr, k)"
   ]
  },
  {
   "cell_type": "code",
   "execution_count": 5,
   "metadata": {},
   "outputs": [
    {
     "data": {
      "text/plain": [
       "(4, [1, 2, 1, 2])"
      ]
     },
     "execution_count": 5,
     "metadata": {},
     "output_type": "execute_result"
    }
   ],
   "source": [
    "# Problem: Longest Subarray with at Most k Distinct Elements\n",
    "# given an array arr and an int k, return the length of the longest contiguous subarray that contains at most k distinct el.\n",
    "# ex: arr = [1, 2, 1, 2, 3], k = 2      ->  - Longest subarray with ≤2 distincts: [1, 2, 1, 2]     -> output: 4\n",
    "# ex2: arr = [4, 2, 1, 2, 3]        -> tweak to return the subarray\n",
    "def solution(arr, k):\n",
    "    left = 0\n",
    "    d = {}\n",
    "    result = 0\n",
    "    curr_sub = []\n",
    "    for right in range(len(arr)):\n",
    "        d[arr[right]] = d.get(arr[right], 0) +1\n",
    "\n",
    "        while len(d) > k:\n",
    "            d[arr[left]] -=1\n",
    "            if d[arr[left]] == 0:\n",
    "                del d[arr[left]]\n",
    "            left += 1\n",
    "\n",
    "        if right-left+1 > result:\n",
    "            result = right-left+1\n",
    "            curr_sub = arr[left:right+1]\n",
    "    return result, curr_sub\n",
    "\n",
    "arr = [1, 2, 1, 2, 3]\n",
    "k = 2\n",
    "solution(arr, k) \n"
   ]
  },
  {
   "cell_type": "code",
   "execution_count": null,
   "metadata": {},
   "outputs": [
    {
     "data": {
      "text/plain": [
       "(21, [2, 10, 2, 7])"
      ]
     },
     "execution_count": 10,
     "metadata": {},
     "output_type": "execute_result"
    }
   ],
   "source": [
    "# Problem: Maximum Sum of a Subarray with Exactly K Distinct Elements\n",
    "# Given an array arr, find the maximum sum of any contiguous subarray that contains exactly k distinct elements.\n",
    "# Return the sum (or the subarray itself if you want bonus points)\n",
    "\n",
    "# example: arr = [1, 2, 1, 2, 3], k = 2     -> - [1,2], [2,1], [1,2,1], [2,1,2], [1,2,1,2]       Maximum sum = 1+2+1+2 = 6\n",
    "\n",
    "def solution(arr, k):\n",
    "    d = {}\n",
    "    left = 0\n",
    "    max_sum = 0\n",
    "    max_sub = []\n",
    "    curr_sum = max_sum\n",
    "    for right in range(len(arr)):\n",
    "        d[arr[right]] = d.get(arr[right], 0) +1\n",
    "\n",
    "        # condition if there are too many distinct elements\n",
    "        while len(d) > k:\n",
    "            d[arr[left]] -= 1\n",
    "            if d[arr[left]] == 0:\n",
    "                del d[arr[left]]\n",
    "            left += 1\n",
    "        # condition for exactly k dinstinct elements\n",
    "        if len(d) == k:\n",
    "            if sum(arr[left:right+1]) > max_sum:\n",
    "                max_sum = sum(arr[left:right+1])\n",
    "                max_sub = arr[left:right+1]\n",
    "    return max_sum, max_sub\n",
    "\n",
    "arr = [5, 2, 10, 2, 7, 3, 4,9]\n",
    "k = 2\n",
    "solution(arr,3)"
   ]
  },
  {
   "cell_type": "code",
   "execution_count": 3,
   "metadata": {},
   "outputs": [
    {
     "data": {
      "text/plain": [
       "10"
      ]
     },
     "execution_count": 3,
     "metadata": {},
     "output_type": "execute_result"
    }
   ],
   "source": [
    "# Count All Subarrays With At Most K Distinct Elements\n",
    "# Given an array arr and integer k, return the number of contiguous subarrays that contain at most k distinct elements\n",
    "arr = [1,2,1,2]\n",
    "k = 2\n",
    "def solution(arr, k):\n",
    "    result = 0\n",
    "    left = 0\n",
    "    d = {}\n",
    "    for right in range(len(arr)):\n",
    "        d[arr[right]] = d.get(arr[right], 0) +1\n",
    "\n",
    "        while len(d) > k:\n",
    "            d[arr[left]] -= 1\n",
    "            if d[arr[left]] == 0:\n",
    "                del d[arr[left]]\n",
    "            left +=1\n",
    "        result += right - left +1\n",
    "    return result\n",
    "solution(arr,k)\n",
    "\n",
    "\n"
   ]
  },
  {
   "cell_type": "code",
   "execution_count": null,
   "metadata": {},
   "outputs": [
    {
     "name": "stdout",
     "output_type": "stream",
     "text": [
      "(10, 'abcdefghij')\n"
     ]
    }
   ],
   "source": [
    "# Given a string s, find the length of the longest substring without repeating characters\n",
    "# Input: \"abcabcbb\"     -> 3    -> \"abc\" is the longest substring without repeating characters\n",
    "s = \"ababeicbbabcdefghij\"\n",
    "\n",
    "def solution(s):\n",
    "    left = 0\n",
    "    d = {}\n",
    "    sbr = \"\"\n",
    "    total = 0\n",
    "    for right in range(len(s)):\n",
    "        d[s[right]] = d.get(s[right], 0) +1\n",
    "        while d[s[right]] > 1:\n",
    "            d[s[left]] -=1\n",
    "            if d[s[left]] == 0:\n",
    "                del d[s[left]]\n",
    "            left +=1\n",
    "        curr = right - left +1\n",
    "        if curr > total:\n",
    "            total = curr\n",
    "            sbr = s[left: right+1]\n",
    "    return total, sbr\n",
    "        \n",
    "print(solution(s))"
   ]
  },
  {
   "cell_type": "code",
   "execution_count": 22,
   "metadata": {},
   "outputs": [
    {
     "data": {
      "text/plain": [
       "(4, 'BANC')"
      ]
     },
     "execution_count": 22,
     "metadata": {},
     "output_type": "execute_result"
    }
   ],
   "source": [
    "# Given two strings s and t, return the minimum window substring of s such that every character in t (including duplicates) \n",
    "# is included in the window. If no such window exists, return an empty string \"\".\n",
    "from collections import Counter\n",
    "def solution(s,t):\n",
    "    main_string_dict = {}\n",
    "    target_dict = Counter(t)\n",
    "    left = 0\n",
    "    min_so_far = 0\n",
    "    result = float(\"inf\")\n",
    "    curr_slice = []\n",
    "    target_length = len(target_dict)\n",
    "    correct_insertions = 0\n",
    "\n",
    "    \n",
    "    for right in range(len(s)):\n",
    "        main_string_dict[s[right]] = main_string_dict.get(s[right], 0) +1\n",
    "        if s[right] in target_dict and main_string_dict[s[right]] == target_dict[s[right]]:\n",
    "            correct_insertions +=1\n",
    "        while correct_insertions == target_length:\n",
    "    \n",
    "            min_so_far = right - left +1\n",
    "            if min_so_far < result:\n",
    "                result = min_so_far\n",
    "                curr_slice = s[left:right+1]\n",
    "            # logic to reduce window size\n",
    "            main_string_dict[s[left]] -=1\n",
    "            # condition to reduce the correct_insertions\n",
    "            if s[left] in target_dict and main_string_dict[s[left]] < target_dict[s[left]]:\n",
    "                correct_insertions -=1\n",
    "            left +=1\n",
    "    \n",
    "    if result == float(\"inf\"):\n",
    "        return \"\"\n",
    "    else:\n",
    "        return result, curr_slice\n",
    "\n",
    "s = \"ADOBECODEBANC\"\n",
    "t = \"ABC\"\n",
    "solution(s,t)\n"
   ]
  },
  {
   "cell_type": "code",
   "execution_count": 45,
   "metadata": {},
   "outputs": [
    {
     "data": {
      "text/plain": [
       "[0, 6]"
      ]
     },
     "execution_count": 45,
     "metadata": {},
     "output_type": "execute_result"
    }
   ],
   "source": [
    "# Find All Anagrams in a String\n",
    "# Given two strings s and p, return all starting indices of p's anagrams in s.\n",
    "#  You may return the answer in any order.\n",
    "\n",
    "# An anagram is a permutation of a string — so you’re looking\n",
    "# for all substrings in s that are rearrangements of p.\n",
    "\n",
    "s = \"cbaebabacd\"\n",
    "p = \"abc\"\n",
    "# Output: [0, 6]\n",
    "#  Substring \"cba\" at index 0 is an anagram of \"abc\"\n",
    "#  Substring \"bac\" at index 6 is also an anagram of \"abc\"\n",
    "\n",
    "from collections import Counter\n",
    "def solution(s,p):\n",
    "\n",
    "    def dict_in_dict(d1, d2):\n",
    "        for key in d1:\n",
    "            if (not key in d2) or d1[key] < d2[key]:\n",
    "                return False\n",
    "        return True\n",
    "    left = right = 0\n",
    "    answer = []\n",
    "    p_dict = Counter(p)\n",
    "    s_dict = Counter(s[left: left + len(p)])\n",
    "\n",
    "    while right < len(s) - len(p):\n",
    "        if p_dict == s_dict:\n",
    "            answer.append(right)\n",
    "        # add next element and remove first element in s_dict\n",
    "        s_dict[s[right]] -= 1\n",
    "        if s_dict[s[right]] == 0:\n",
    "            del s_dict[s[right]]\n",
    "        s_dict[s[right+len(p)]] = s_dict.get(s[right+len(p)], 0) +1\n",
    "        right +=1\n",
    "    if p_dict == s_dict:\n",
    "        answer.append(right)\n",
    "    return answer\n",
    "        \n",
    "        \n",
    "solution(s,p)"
   ]
  },
  {
   "cell_type": "code",
   "execution_count": 53,
   "metadata": {},
   "outputs": [
    {
     "data": {
      "text/plain": [
       "9"
      ]
     },
     "execution_count": 53,
     "metadata": {},
     "output_type": "execute_result"
    }
   ],
   "source": [
    "# 1. Maximum Sum of a Subarray of Size K (Difficulty: Easy)\n",
    "# Given an integer array and an integer K, find the maximum sum of any\n",
    "# contiguous subarray of size K.\n",
    "# Input: nums = [2, 1, 5, 1, 3, 2], k = 3  Output: 9  \n",
    "# Explanation: Window [5,1,3] has sum 9 (max)\n",
    "nums = [1, 2, 3, 4, 5]\n",
    "k = 2\n",
    "\n",
    "def solution(nums, k):\n",
    "    \n",
    "    init_arr = nums[:k]\n",
    "    max_sum = curr_sum = sum(init_arr)\n",
    "    for left in range(len(nums)-k):\n",
    "        curr_sum += nums[k+ left] - nums[left]\n",
    "        max_sum = max(max_sum, curr_sum) \n",
    "    return max_sum\n",
    "\n",
    "solution(nums,k)\n"
   ]
  },
  {
   "cell_type": "code",
   "execution_count": 55,
   "metadata": {},
   "outputs": [
    {
     "data": {
      "text/plain": [
       "[2.2, 2.8, 2.4, 3.6, 2.8]"
      ]
     },
     "execution_count": 55,
     "metadata": {},
     "output_type": "execute_result"
    }
   ],
   "source": [
    "# 2. Average of All Subarrays of Size K (Difficulty: Easy)\n",
    "# Return a list containing the average of each contiguous subarray of size K.\n",
    "# nums = [1, 3, 2, 6, -1, 4, 1, 8, 2], k = 5  -> [2.2, 2.8, 2.4, 3.6, 2.8] \n",
    "# Explanation: First window sum = 1+3+2+6-1 = 11 → 11/5 = 2.2\n",
    "\n",
    "def solution(nums, k):\n",
    "    result = []\n",
    "    init_sub_sum = sum(nums[:k])\n",
    "    result.append(init_sub_sum/k)\n",
    "    for left in range(len(nums)-k):\n",
    "        init_sub_sum += nums[k+left] - nums[left]\n",
    "        result.append(init_sub_sum/k)\n",
    "    return result\n",
    "nums = [1, 3, 2, 6, -1, 4, 1, 8, 2]\n",
    "k = 5\n",
    "solution(nums,k) "
   ]
  },
  {
   "cell_type": "code",
   "execution_count": 60,
   "metadata": {},
   "outputs": [
    {
     "data": {
      "text/plain": [
       "(2, [4, 3])"
      ]
     },
     "execution_count": 60,
     "metadata": {},
     "output_type": "execute_result"
    }
   ],
   "source": [
    "# 3. Minimum Size Subarray Sum ≥ Target (Difficulty: Easy)\n",
    "# Given an array of positive integers and a target S, find the minimal length\n",
    "# of a contiguous subarray with sum ≥ S. Return 0 if none.\n",
    "# target = 7, nums = [2,3,1,2,4,3]  -> Output: 2 -> [4,3] has length 2.\n",
    "\n",
    "def solution(nums, S):\n",
    "    curr = 0\n",
    "    best_l, best_r = 0,0\n",
    "    left = 0\n",
    "    output = float(\"inf\")\n",
    "    for right in range(len(nums)):\n",
    "        curr += nums[right]\n",
    "\n",
    "        while curr >= S:\n",
    "            if right-left +1 < output:\n",
    "                output = right - left +1\n",
    "                best_l, best_r = left, right\n",
    "            curr -= nums[left]\n",
    "            left +=1\n",
    "\n",
    "    if output == float(\"inf\"):\n",
    "        return 0\n",
    "    else:\n",
    "        return output, nums[best_l:best_r+1]\n",
    "\n",
    "nums = [2,3,1,2,4,3]\n",
    "S = 7\n",
    "solution(nums, S)"
   ]
  },
  {
   "cell_type": "markdown",
   "metadata": {},
   "source": [
    "### 3. Minimum Size Subarray Sum ≥ Target (Difficulty: Easy)\n",
    "Given an array of positive integers and a target S, find the minimal length of a contiguous subarray with sum ≥ S. Return 0 if none.\n",
    "\n",
    "Pattern: Variable-size shrinking window; expand right until condition met, then shrink left.\n",
    "\n",
    "Time: O(n) | Space: O(1)\n",
    "\n",
    "Example 1:\n",
    "Input: target = 7, nums = [2,3,1,2,4,3]  \n",
    "Output: \n",
    "Explanation: [4,3] has length 2."
   ]
  },
  {
   "cell_type": "code",
   "execution_count": 58,
   "metadata": {},
   "outputs": [],
   "source": [
    "def solution():\n",
    "    pass"
   ]
  }
 ],
 "metadata": {
  "kernelspec": {
   "display_name": "web_app_env",
   "language": "python",
   "name": "python3"
  },
  "language_info": {
   "codemirror_mode": {
    "name": "ipython",
    "version": 3
   },
   "file_extension": ".py",
   "mimetype": "text/x-python",
   "name": "python",
   "nbconvert_exporter": "python",
   "pygments_lexer": "ipython3",
   "version": "3.8.10"
  }
 },
 "nbformat": 4,
 "nbformat_minor": 2
}
